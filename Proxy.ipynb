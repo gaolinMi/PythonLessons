{
  "nbformat": 4,
  "nbformat_minor": 0,
  "metadata": {
    "colab": {
      "name": "Proxy.ipynb",
      "provenance": [],
      "collapsed_sections": [],
      "authorship_tag": "ABX9TyMpAMl1RkAEjQ/CUM4FrR7T",
      "include_colab_link": true
    },
    "kernelspec": {
      "name": "python3",
      "display_name": "Python 3"
    },
    "language_info": {
      "name": "python"
    }
  },
  "cells": [
    {
      "cell_type": "markdown",
      "metadata": {
        "id": "view-in-github",
        "colab_type": "text"
      },
      "source": [
        "<a href=\"https://colab.research.google.com/github/gaolinMi/PythonLessons/blob/master/Proxy.ipynb\" target=\"_parent\"><img src=\"https://colab.research.google.com/assets/colab-badge.svg\" alt=\"Open In Colab\"/></a>"
      ]
    },
    {
      "cell_type": "markdown",
      "source": [
        "## Proxy Pattern\n",
        "\n",
        "Proxy is used in places where you want to add functionality to a class without changing its interface. The main class is called `Real Subject`. A client should use the proxy or the real subject without any code change, so both must have the\n",
        "same interface. Logging and controlling access to the real subject are some of the proxy pattern usages.\n",
        "\n",
        "*References:\n",
        "https://refactoring.guru/design-patterns/proxy/python/example\n",
        "https://python-3-patterns-idioms-test.readthedocs.io/en/latest/Fronting.html\n",
        "\n",
        "*TL;DR <br>\n",
        "Add functionality or logic (e.g. logging, caching, authorization) to a resource\n",
        "without changing its interface."
      ],
      "metadata": {
        "id": "5A9--BKaAH8q"
      }
    },
    {
      "cell_type": "code",
      "source": [
        "from typing import Union\n",
        "\n",
        "\n",
        "class Subject:\n",
        "    \"\"\"\n",
        "    As mentioned in the document, interfaces of both RealSubject and Proxy should\n",
        "    be the same, because the client should be able to use RealSubject or Proxy with\n",
        "    no code change.\n",
        "\n",
        "    Not all times this interface is necessary. The point is the client should be\n",
        "    able to use RealSubject or Proxy interchangeably with no change in code.\n",
        "    \"\"\"\n",
        "\n",
        "    def do_the_job(self, user: str) -> None:\n",
        "        raise NotImplementedError()\n",
        "\n",
        "\n",
        "class RealSubject(Subject):\n",
        "    \"\"\"\n",
        "    This is the main job doer. External services like payment gateways can be a\n",
        "    good example.\n",
        "    \"\"\"\n",
        "\n",
        "    def do_the_job(self, user: str) -> None:\n",
        "        print(f\"I am doing the job for {user}\")\n",
        "\n",
        "\n",
        "class Proxy(Subject):\n",
        "    def __init__(self) -> None:\n",
        "        self._real_subject = RealSubject()\n",
        "\n",
        "    def do_the_job(self, user: str) -> None:\n",
        "        \"\"\"\n",
        "        logging and controlling access are some examples of proxy usages.\n",
        "        \"\"\"\n",
        "\n",
        "        print(f\"[log] Doing the job for {user} is requested.\")\n",
        "\n",
        "        if user == \"admin\":\n",
        "            self._real_subject.do_the_job(user)\n",
        "        else:\n",
        "            print(\"[log] I can do the job just for `admins`.\")\n",
        "\n",
        "\n",
        "def client(job_doer: Union[RealSubject, Proxy], user: str) -> None:\n",
        "    job_doer.do_the_job(user)\n",
        "\n",
        "\n",
        "def main():\n",
        "    \"\"\" \n",
        "    >>> proxy = Proxy()\n",
        "\n",
        "    >>> real_subject = RealSubject()\n",
        "\n",
        "    >>> client(proxy, 'admin')\n",
        "    [log] Doing the job for admin is requested.\n",
        "    I am doing the job for admin\n",
        "\n",
        "    >>> client(proxy, 'anonymous')\n",
        "    [log] Doing the job for anonymous is requested.\n",
        "    [log] I can do the job just for `admins`.\n",
        "\n",
        "    >>> client(real_subject, 'admin')\n",
        "    I am doing the job for admin\n",
        "\n",
        "    >>> client(real_subject, 'anonymous')\n",
        "    I am doing the job for anonymous\n",
        "    \n",
        "  \"\"\""
      ],
      "metadata": {
        "id": "yxQ3opu4Albw"
      },
      "execution_count": null,
      "outputs": []
    },
    {
      "cell_type": "code",
      "source": [
        "import doctest\n",
        "doctest.testmod()"
      ],
      "metadata": {
        "colab": {
          "base_uri": "https://localhost:8080/"
        },
        "id": "vnt65d0EBNr9",
        "outputId": "f7a07cba-56b7-4ac8-d5a3-dcdea8bbab58"
      },
      "execution_count": null,
      "outputs": [
        {
          "output_type": "execute_result",
          "data": {
            "text/plain": [
              "TestResults(failed=0, attempted=6)"
            ]
          },
          "metadata": {},
          "execution_count": 16
        }
      ]
    },
    {
      "cell_type": "code",
      "source": [],
      "metadata": {
        "colab": {
          "base_uri": "https://localhost:8080/"
        },
        "id": "3UITfZ93BOsE",
        "outputId": "2df11db1-c071-466a-b37d-94af5d09b0fe"
      },
      "execution_count": null,
      "outputs": [
        {
          "output_type": "execute_result",
          "data": {
            "text/plain": [
              "TestResults(failed=0, attempted=6)"
            ]
          },
          "metadata": {},
          "execution_count": 13
        }
      ]
    },
    {
      "cell_type": "code",
      "source": [],
      "metadata": {
        "id": "vgAdUp8cCzmV"
      },
      "execution_count": null,
      "outputs": []
    }
  ]
}