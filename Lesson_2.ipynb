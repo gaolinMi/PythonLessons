{
 "cells": [
  {
   "cell_type": "markdown",
   "metadata": {
    "id": "I0htM3rbPraI"
   },
   "source": [
    "## Lists and Tuples"
   ]
  },
  {
   "cell_type": "code",
   "execution_count": 4,
   "metadata": {
    "colab": {
     "base_uri": "https://localhost:8080/"
    },
    "executionInfo": {
     "elapsed": 2,
     "status": "ok",
     "timestamp": 1661552719168,
     "user": {
      "displayName": "Gaolin Milledge",
      "userId": "12983933516027878124"
     },
     "user_tz": 240
    },
    "id": "VeQvb7oQQiiZ",
    "outputId": "44692016-833e-4a98-cda8-73a8bb5a7a2e"
   },
   "outputs": [
    {
     "name": "stdout",
     "output_type": "stream",
     "text": [
      "[10, 10, 10, 10, 10]\n",
      "[1, 2, 3, 1, 2, 3, 1, 2, 3]\n",
      "Molly Steven Will Alicia Adriana \n",
      "9\n",
      "[1, 2, 3, 4, 5, 6, 7, 8]\n"
     ]
    }
   ],
   "source": [
    "# A list of numbers\n",
    "nums = [2, 4, 6, 8, 10]\n",
    "\n",
    "# A list of strings\n",
    "names = ['Molly', 'Steven', 'Will', 'Alicia', 'Adriana']\n",
    "\n",
    "# A list holding different types\n",
    "info = ['Alicia', 27, 1550.87]\n",
    "\n",
    "# The repetition operator\n",
    "numbers = [10] * 5\n",
    "print(numbers)\n",
    "numbers = [1, 2, 3] * 3\n",
    "print(numbers)\n",
    "\n",
    "# Iterate over a list with the for loop\n",
    "for x in names:\n",
    "  print(x, end = ' ')\n",
    "\n",
    "print()\n",
    "\n",
    "# The len function\n",
    "print(len(numbers))\n",
    "\n",
    "# Lists are mutable\n",
    "numbers[8] = 250\n",
    "\n",
    "# Concatenating lists\n",
    "list1 = [1, 2, 3, 4]\n",
    "list2 = [5, 6, 7, 8]\n",
    "list3 = list1 + list2\n",
    "print(list1 + list2) # operator +"
   ]
  },
  {
   "cell_type": "markdown",
   "metadata": {
    "id": "TvLUx2nSQnJl"
   },
   "source": [
    "### List Slicing"
   ]
  },
  {
   "cell_type": "code",
   "execution_count": 2,
   "metadata": {
    "colab": {
     "base_uri": "https://localhost:8080/"
    },
    "executionInfo": {
     "elapsed": 330,
     "status": "ok",
     "timestamp": 1661552766261,
     "user": {
      "displayName": "Gaolin Milledge",
      "userId": "12983933516027878124"
     },
     "user_tz": 240
    },
    "id": "P1NZyFLBQtu5",
    "outputId": "caef01c0-b5d6-4cdb-817f-b1a51a66670f"
   },
   "outputs": [
    {
     "name": "stdout",
     "output_type": "stream",
     "text": [
      "['Tuesday', 'Wednesday', 'Thursday']\n",
      "['Sunday', 'Monday', 'Tuesday']\n",
      "['Tuesday', 'Wednesday', 'Thursday', 'Friday', 'Saturday']\n",
      "['Sunday', 'Monday', 'Tuesday', 'Wednesday', 'Thursday', 'Friday', 'Saturday']\n",
      "[9, 10]\n",
      "[10, 9, 8, 7, 6, 5, 4, 3, 2, 1]\n",
      "Sunday, Monday, Tuesday, Wednesday, Thursday, Friday, Saturday, "
     ]
    }
   ],
   "source": [
    "days = ['Sunday', 'Monday', 'Tuesday', 'Wednesday',\n",
    "'Thursday', 'Friday', 'Saturday']\n",
    "\n",
    "mid_days = days[2:5]\n",
    "print(mid_days)\n",
    "\n",
    "# Leave out the start index\n",
    "print(days[:3])\n",
    "\n",
    "# Leave out the end index\n",
    "print(days[2:])\n",
    "\n",
    "# Leave out both the start and end index\n",
    "print(days[:])\n",
    "\n",
    "numbers = [1, 2, 3, 4, 5, 6, 7, 8, 9, 10]\n",
    "# use negative numbers as indexes in slicing expressions \n",
    "#to reference positions relative to the end of the list.\n",
    "print(numbers[-2:])\n",
    "\n",
    "# reverse the list\n",
    "print(numbers[::-1])\n",
    "\n",
    "# The in operator\n",
    "for day in days:\n",
    "  print(day, end = ', ')"
   ]
  },
  {
   "cell_type": "markdown",
   "metadata": {
    "id": "8DQJmpV4Qyn9"
   },
   "source": [
    "### List Methods and Useful Built-in Functions\n",
    "\n",
    "A few of the list methods\n",
    "\n",
    "**append(item)**: Adds item to the end of the list.\n",
    "\n",
    "**index(item)**: Returns the index of the first element whose value is equal to item.\n",
    "A ValueError exception is raised if item is not found in the list.\n",
    "\n",
    "**insert(index, item)**: Inserts item into the list at the specified index. When an item is inserted into a list, the list is expanded in size to accommodate the\n",
    "new item. The item that was previously at the specified index, and all\n",
    "the items after it, are shifted by one position toward the end of the list.\n",
    "No exceptions will occur if you specify an invalid index. If you\n",
    "specify an index beyond the end of the list, the item will be added to\n",
    "the end of the list. If you use a negative index that specifies an\n",
    "invalid position, the item will be inserted at the beginning of the list.\n",
    "\n",
    "**sort()**: Sorts the items in the list so they appear in ascending order (from\n",
    "the lowest value to the highest value).\n",
    "\n",
    "**remove(item)**: Removes the first occurrence of item from the list. A ValueError exception is raised if item is not found in the list.\n",
    "\n",
    "**reverse()**: Reverses the order of the items in the list.\n"
   ]
  },
  {
   "cell_type": "code",
   "execution_count": 3,
   "metadata": {
    "colab": {
     "base_uri": "https://localhost:8080/"
    },
    "executionInfo": {
     "elapsed": 265,
     "status": "ok",
     "timestamp": 1661552805430,
     "user": {
      "displayName": "Gaolin Milledge",
      "userId": "12983933516027878124"
     },
     "user_tz": 240
    },
    "id": "ACpWjlRQQ4f7",
    "outputId": "5d355a53-f80f-425c-974b-c040c242cfb0"
   },
   "outputs": [
    {
     "name": "stdout",
     "output_type": "stream",
     "text": [
      "['a', 'b', 'c', 'd']\n",
      "3\n",
      "['Joe', 'John', 'Buzz', 'Zuni', 'Mary', 'Jennifer', 'Mary']\n",
      "['Buzz', 'Jennifer', 'Joe', 'John', 'Mary', 'Mary', 'Zuni']\n",
      "['Jennifer', 'Joe', 'John', 'Mary', 'Mary', 'Zuni']\n",
      "Jennifer Zuni\n",
      "['Sally', 'Joe', 'John', 'Mary', 'Mary', 'Zuni']\n",
      "['Jennifer', 'Joe', 'John', 'Mary', 'Mary', 'Zuni']\n"
     ]
    }
   ],
   "source": [
    "# append\n",
    "list1 = ['a', 'b', 'c']\n",
    "list1.append('d')\n",
    "print(list1)\n",
    "\n",
    "# index\n",
    "names = ['John', 'Buzz', 'Zuni', 'Mary', 'Jennifer', 'Mary']\n",
    "print(names.index('Mary'))\n",
    "\n",
    "# insert\n",
    "names.insert(0, \"Joe\")\n",
    "print(names)\n",
    "\n",
    "# sort\n",
    "names.sort()\n",
    "print(names)\n",
    "\n",
    "# del\n",
    "del names[0]\n",
    "print(names)\n",
    "\n",
    "#  min and max\n",
    "print(min(names), max(names))\n",
    "\n",
    "# copying list\n",
    "names2 = names # this does not work, both names2 and names refer to the same list\n",
    "names2 = names.copy()\n",
    "names2[0] = 'Sally'\n",
    "print(names2)\n",
    "print(names)"
   ]
  },
  {
   "cell_type": "markdown",
   "metadata": {
    "id": "x1mYotbVQ8NB"
   },
   "source": [
    "### Tuples\n",
    "\n",
    "A tuple is a sequence, very much like a list. The primary difference between tuples and lists is that tuples are **immutable**.\n",
    "\n",
    "tuples support all the same operations as lists, except those that change the contents\n",
    "of the list. Tuples support the following:\n",
    "\n",
    "* Subscript indexing (for retrieving element values only)\n",
    "* Methods such as index\n",
    "* Built-in functions such as len, min, and max\n",
    "* Slicing expressions\n",
    "* The in operator\n",
    "* The + and * operators\n",
    "\n",
    "Tuples do not support methods such as **append**, **remove**, **insert**, **reverse**, and **sort**."
   ]
  },
  {
   "cell_type": "markdown",
   "metadata": {
    "id": "VVm5mxsSRBDy"
   },
   "source": [
    "## Strings"
   ]
  },
  {
   "cell_type": "markdown",
   "metadata": {
    "id": "bNphLeY2Rfun"
   },
   "source": [
    "#### Some string testing methods\n",
    "\n",
    "**isalnum()**\n",
    "<br>**isalpha()**\n",
    "<br>**isdigit()**\n",
    "<br>**islower()**\n",
    "<br>**isspace()**\n",
    "<br>**isupper()**\n",
    "\n",
    "#### String modification methods\n",
    "\n",
    "**lower()**\n",
    "<br>**lstrip()**\n",
    "<br>**lstrip(char>**\n",
    "<br>**rstrip()**\n",
    "<br>**strip()**\n",
    "<br>**strip(char>**\n",
    "<br>**upper()**\n",
    "\n",
    "#### Search and replace methods\n",
    "**endswith(substring)**\n",
    "<br>**find(str)**\n",
    "<br>**replace(old, new)**\n",
    "<br>**startswith(str)**\n",
    "\n",
    "\n"
   ]
  },
  {
   "cell_type": "markdown",
   "metadata": {
    "id": "jMsuvTq-SNNp"
   },
   "source": [
    "#### Alphabetic Telephone Number Translator\n",
    "\n",
    "Many companies use telephone numbers like 555-GET-FOOD so the number is easier for\n",
    "their customers to remember. On a standard telephone, the alphabetic letters are mapped to numbers in the following fashion:\n",
    "\n",
    "A, B, and C  =  2 <br>\n",
    "D, E, and F  = 3 <br>\n",
    "G, H, and I = 4 <br>\n",
    "J, K, and L = 5 <br>\n",
    "M, N, and O = 6 <br>\n",
    "P, Q, R, and S = 7 <br>\n",
    "T, U, and V =  8 <br>\n",
    "W, X, Y, and Z = 9\n",
    "\n",
    "Write a program that asks the user to enter a 10-character telephone number in the format XXX-XXX-XXXX. The application should display the telephone number with any alphabetic characters that appeared in the original translated to their numeric equivalent. For example, if the user enters 555-GET-FOOD the application should display 555-438-3663."
   ]
  },
  {
   "cell_type": "code",
   "execution_count": 7,
   "metadata": {
    "executionInfo": {
     "elapsed": 107,
     "status": "ok",
     "timestamp": 1661607353749,
     "user": {
      "displayName": "Gaolin Milledge",
      "userId": "12983933516027878124"
     },
     "user_tz": 240
    },
    "id": "PQjJjm48eU5v"
   },
   "outputs": [],
   "source": [
    "def get_phone_number(num_str):\n",
    "  '''\n",
    "  This functions returns phone number with any\n",
    "  alphabetic characters translated to their numeric equivalent.\n",
    "  parameters\n",
    "  -----------\n",
    "  num_str: string\n",
    "  10-character phone number in the format XXX-XXX-XXXX\n",
    "  returns\n",
    "  -------\n",
    "  10-number phone number in the format 123-456-4321\n",
    "  '''\n",
    "\n",
    "  # convert it to upper case\n",
    "  num_str = num_str.upper()\n",
    "\n",
    "  # create mapping from character to number\n",
    "  my_map = {'A':2, 'B':2, 'C':2, 'D':3, 'E':3, 'F':3, 'G':4, 'H':4, 'I':4,\n",
    "            'J':5, 'K':5, 'L':5, 'M':6, 'N':6, 'O':6, 'P':7, 'Q':7, 'R':7,\n",
    "            'S':7, 'T':8, 'U':8, 'V':8, 'W':9, 'X':9, 'Y':9, 'Z':9}\n",
    "  \n",
    "  output = ''\n",
    "  for x in num_str:\n",
    "    if x in 'ABCDEFGHIJKLMNOPQRSTUVWXYZ':\n",
    "      output += str(my_map[x])\n",
    "    else:\n",
    "      output += str(x)\n",
    "  return output\n"
   ]
  },
  {
   "cell_type": "code",
   "execution_count": 12,
   "metadata": {
    "executionInfo": {
     "elapsed": 99,
     "status": "ok",
     "timestamp": 1661607428455,
     "user": {
      "displayName": "Gaolin Milledge",
      "userId": "12983933516027878124"
     },
     "user_tz": 240
    },
    "id": "YULYKx-FgofS"
   },
   "outputs": [],
   "source": [
    "def test_get_phone_number():\n",
    "  assert get_phone_number('555-GET-FOOD') == '555-438-3663'\n",
    "  assert get_phone_number('321-how-cool') == '321-469-2665'"
   ]
  },
  {
   "cell_type": "code",
   "execution_count": 13,
   "metadata": {
    "executionInfo": {
     "elapsed": 98,
     "status": "ok",
     "timestamp": 1661607429314,
     "user": {
      "displayName": "Gaolin Milledge",
      "userId": "12983933516027878124"
     },
     "user_tz": 240
    },
    "id": "14ccS4Psg2YN"
   },
   "outputs": [],
   "source": [
    "test_get_phone_number()"
   ]
  },
  {
   "cell_type": "code",
   "execution_count": null,
   "metadata": {
    "id": "bEUdA9mzhG-6"
   },
   "outputs": [],
   "source": []
  }
 ],
 "metadata": {
  "colab": {
   "authorship_tag": "ABX9TyPWBY0/exnDZZUXKSRu2XhA",
   "collapsed_sections": [],
   "name": "Lesson_2.ipynb",
   "provenance": []
  },
  "kernelspec": {
   "display_name": "Python 3 (ipykernel)",
   "language": "python",
   "name": "python3"
  },
  "language_info": {
   "codemirror_mode": {
    "name": "ipython",
    "version": 3
   },
   "file_extension": ".py",
   "mimetype": "text/x-python",
   "name": "python",
   "nbconvert_exporter": "python",
   "pygments_lexer": "ipython3",
   "version": "3.9.12"
  }
 },
 "nbformat": 4,
 "nbformat_minor": 4
}
