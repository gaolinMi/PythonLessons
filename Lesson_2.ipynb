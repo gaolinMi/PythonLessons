{
  "nbformat": 4,
  "nbformat_minor": 0,
  "metadata": {
    "colab": {
      "name": "Lesson_2.ipynb",
      "provenance": [],
      "collapsed_sections": [],
      "authorship_tag": "ABX9TyPBJ/wleuVTXd4OTTWAQiyy",
      "include_colab_link": true
    },
    "kernelspec": {
      "name": "python3",
      "display_name": "Python 3"
    },
    "language_info": {
      "name": "python"
    }
  },
  "cells": [
    {
      "cell_type": "markdown",
      "metadata": {
        "id": "view-in-github",
        "colab_type": "text"
      },
      "source": [
        "<a href=\"https://colab.research.google.com/github/gaolinMi/PythonLessons/blob/master/Lesson_2.ipynb\" target=\"_parent\"><img src=\"https://colab.research.google.com/assets/colab-badge.svg\" alt=\"Open In Colab\"/></a>"
      ]
    },
    {
      "cell_type": "markdown",
      "source": [
        "## Lists and Tuples"
      ],
      "metadata": {
        "id": "I0htM3rbPraI"
      }
    },
    {
      "cell_type": "code",
      "source": [
        "# A list of numbers\n",
        "nums = [2, 4, 6, 8, 10]\n",
        "\n",
        "# A list of strings\n",
        "names = ['Molly', 'Steven', 'Will', 'Alicia', 'Adriana']\n",
        "\n",
        "# A list holding different types\n",
        "info = ['Alicia', 27, 1550.87]\n",
        "\n",
        "# The repetition operator\n",
        "numbers = [0] * 5\n",
        "print(numbers)\n",
        "numbers = [1, 2, 3] * 3\n",
        "print(numbers)\n",
        "\n",
        "# Iterate over a list with the for loop\n",
        "for x in names:\n",
        "  print(x)\n",
        "\n",
        "# The len function\n",
        "print(len(numbers))\n",
        "\n",
        "# Lists are mutable\n",
        "numbers[8] = 250\n",
        "\n",
        "# Concatenating lists\n",
        "list1 = [1, 2, 3, 4]\n",
        "list2 = [5, 6, 7, 8]\n",
        "list3 = list1 + list2\n",
        "print(list1 + list2)"
      ],
      "metadata": {
        "colab": {
          "base_uri": "https://localhost:8080/"
        },
        "id": "VeQvb7oQQiiZ",
        "outputId": "44692016-833e-4a98-cda8-73a8bb5a7a2e"
      },
      "execution_count": null,
      "outputs": [
        {
          "output_type": "stream",
          "name": "stdout",
          "text": [
            "[0, 0, 0, 0, 0]\n",
            "[1, 2, 3, 1, 2, 3, 1, 2, 3]\n",
            "Molly\n",
            "Steven\n",
            "Will\n",
            "Alicia\n",
            "Adriana\n",
            "9\n",
            "[1, 2, 3, 4, 5, 6, 7, 8]\n"
          ]
        }
      ]
    },
    {
      "cell_type": "markdown",
      "source": [
        "### List Slicing"
      ],
      "metadata": {
        "id": "TvLUx2nSQnJl"
      }
    },
    {
      "cell_type": "code",
      "source": [
        "days = ['Sunday', 'Monday', 'Tuesday', 'Wednesday',\n",
        "'Thursday', 'Friday', 'Saturday']\n",
        "\n",
        "mid_days = days[2:5]\n",
        "print(mid_days)\n",
        "\n",
        "# Leave out the start index\n",
        "print(days[:3])\n",
        "\n",
        "# Leave out the end index\n",
        "print(days[2:])\n",
        "\n",
        "# Leave out both the start and end index\n",
        "print(days[:])\n",
        "\n",
        "numbers = [1, 2, 3, 4, 5, 6, 7, 8, 9, 10]\n",
        "# use negative numbers as indexes in slicing expressions \n",
        "#to reference positions relative to the end of the list.\n",
        "print(numbers[-2:])\n",
        "\n",
        "# reverse the list\n",
        "print(numbers[::-1])\n",
        "\n",
        "# The in operator\n",
        "for day in days:\n",
        "  print(day, end = ', ')"
      ],
      "metadata": {
        "colab": {
          "base_uri": "https://localhost:8080/"
        },
        "id": "P1NZyFLBQtu5",
        "outputId": "caef01c0-b5d6-4cdb-817f-b1a51a66670f"
      },
      "execution_count": null,
      "outputs": [
        {
          "output_type": "stream",
          "name": "stdout",
          "text": [
            "['Tuesday', 'Wednesday', 'Thursday']\n",
            "['Sunday', 'Monday', 'Tuesday']\n",
            "['Tuesday', 'Wednesday', 'Thursday', 'Friday', 'Saturday']\n",
            "['Sunday', 'Monday', 'Tuesday', 'Wednesday', 'Thursday', 'Friday', 'Saturday']\n",
            "[9, 10]\n",
            "[10, 9, 8, 7, 6, 5, 4, 3, 2, 1]\n",
            "Sunday, Monday, Tuesday, Wednesday, Thursday, Friday, Saturday, "
          ]
        }
      ]
    },
    {
      "cell_type": "markdown",
      "source": [
        "### List Methods and Useful Built-in Functions\n",
        "\n",
        "A few of the list methods\n",
        "\n",
        "**append(item)**: Adds item to the end of the list.\n",
        "\n",
        "**index(item)**: Returns the index of the first element whose value is equal to item.\n",
        "A ValueError exception is raised if item is not found in the list.\n",
        "\n",
        "**insert(index, item)**: Inserts item into the list at the specified index. When an item is inserted into a list, the list is expanded in size to accommodate the\n",
        "new item. The item that was previously at the specified index, and all\n",
        "the items after it, are shifted by one position toward the end of the list.\n",
        "No exceptions will occur if you specify an invalid index. If you\n",
        "specify an index beyond the end of the list, the item will be added to\n",
        "the end of the list. If you use a negative index that specifies an\n",
        "invalid position, the item will be inserted at the beginning of the list.\n",
        "\n",
        "**sort()**: Sorts the items in the list so they appear in ascending order (from\n",
        "the lowest value to the highest value).\n",
        "\n",
        "**remove(item)**: Removes the first occurrence of item from the list. A ValueError exception is raised if item is not found in the list.\n",
        "\n",
        "**reverse()**: Reverses the order of the items in the list.\n"
      ],
      "metadata": {
        "id": "8DQJmpV4Qyn9"
      }
    },
    {
      "cell_type": "code",
      "source": [
        "# append\n",
        "list1 = ['a', 'b', 'c']\n",
        "list1.append('d')\n",
        "print(list1)\n",
        "\n",
        "# index\n",
        "names = ['John', 'Buzz', 'Zuni', 'Mary', 'Jennifer', 'Mary']\n",
        "print(names.index('Mary'))\n",
        "\n",
        "# insert\n",
        "names.insert(0, \"Joe\")\n",
        "print(names)\n",
        "\n",
        "# sort\n",
        "names.sort()\n",
        "print(names)\n",
        "\n",
        "# del\n",
        "del names[0]\n",
        "print(names)\n",
        "\n",
        "#  min and max\n",
        "print(min(names), max(names))\n",
        "\n",
        "# copying list\n",
        "names2 = names # this does not work, both names2 and names refer to the same list\n",
        "names2 = names.copy()\n",
        "names2[0] = 'Sally'\n",
        "print(names2)\n",
        "print(names)"
      ],
      "metadata": {
        "colab": {
          "base_uri": "https://localhost:8080/"
        },
        "id": "ACpWjlRQQ4f7",
        "outputId": "5d355a53-f80f-425c-974b-c040c242cfb0"
      },
      "execution_count": null,
      "outputs": [
        {
          "output_type": "stream",
          "name": "stdout",
          "text": [
            "['a', 'b', 'c', 'd']\n",
            "3\n",
            "['Joe', 'John', 'Buzz', 'Zuni', 'Mary', 'Jennifer', 'Mary']\n",
            "['Buzz', 'Jennifer', 'Joe', 'John', 'Mary', 'Mary', 'Zuni']\n",
            "['Jennifer', 'Joe', 'John', 'Mary', 'Mary', 'Zuni']\n",
            "Jennifer Zuni\n",
            "['Sally', 'Joe', 'John', 'Mary', 'Mary', 'Zuni']\n",
            "['Jennifer', 'Joe', 'John', 'Mary', 'Mary', 'Zuni']\n"
          ]
        }
      ]
    },
    {
      "cell_type": "markdown",
      "source": [
        "### Tuples\n",
        "\n",
        "A tuple is a sequence, very much like a list. The primary difference between tuples and lists is that tuples are **immutable**.\n",
        "\n",
        "tuples support all the same operations as lists, except those that change the contents\n",
        "of the list. Tuples support the following:\n",
        "\n",
        "* Subscript indexing (for retrieving element values only)\n",
        "* Methods such as index\n",
        "* Built-in functions such as len, min, and max\n",
        "* Slicing expressions\n",
        "* The in operator\n",
        "* The + and * operators\n",
        "\n",
        "Tuples do not support methods such as **append**, **remove**, **insert**, **reverse**, and **sort**."
      ],
      "metadata": {
        "id": "x1mYotbVQ8NB"
      }
    },
    {
      "cell_type": "markdown",
      "source": [
        "## Strings"
      ],
      "metadata": {
        "id": "VVm5mxsSRBDy"
      }
    },
    {
      "cell_type": "markdown",
      "source": [
        "#### Some string testing methods\n",
        "\n",
        "**isalnum()**\n",
        "<br>**isalpha()**\n",
        "<br>**isdigit()**\n",
        "<br>**islower()**\n",
        "<br>**isspace()**\n",
        "<br>**isupper()**\n",
        "\n",
        "#### String modification methods\n",
        "\n",
        "**lower()**\n",
        "<br>**lstrip()**\n",
        "<br>**lstrip(char>**\n",
        "<br>**rstrip()**\n",
        "<br>**strip()**\n",
        "<br>**strip(char>**\n",
        "<br>**upper()**\n",
        "\n",
        "#### Search and replace methods\n",
        "**endswith(substring)**\n",
        "<br>**find(str)**\n",
        "<br>**replace(old, new)**\n",
        "<br>**startswith(str)**\n",
        "\n",
        "\n"
      ],
      "metadata": {
        "id": "bNphLeY2Rfun"
      }
    },
    {
      "cell_type": "markdown",
      "source": [
        "#### Alphabetic Telephone Number Translator\n",
        "\n",
        "Many companies use telephone numbers like 555-GET-FOOD so the number is easier for\n",
        "their customers to remember. On a standard telephone, the alphabetic letters are mapped to numbers in the following fashion:\n",
        "\n",
        "A, B, and C  =  2 <br>\n",
        "D, E, and F  = 3 <br>\n",
        "G, H, and I = 4 <br>\n",
        "J, K, and L = 5 <br>\n",
        "M, N, and O = 6 <br>\n",
        "P, Q, R, and S = 7 <br>\n",
        "T, U, and V =  8 <br>\n",
        "W, X, Y, and Z = 9\n",
        "\n",
        "Write a program that asks the user to enter a 10-character telephone number in the format XXX-XXX-XXXX. The application should display the telephone number with any alphabetic characters that appeared in the original translated to their numeric equivalent. For example, if the user enters 555-GET-FOOD the application should display 555-438-3663."
      ],
      "metadata": {
        "id": "jMsuvTq-SNNp"
      }
    },
    {
      "cell_type": "code",
      "source": [
        "def get_phone_number(num_str):\n",
        "  '''\n",
        "  This functions returns phone number with any\n",
        "  alphabetic characters translated to their numeric equivalent.\n",
        "  parameters\n",
        "  -----------\n",
        "  num_str: string\n",
        "  10-character phone number in the format XXX-XXX-XXXX\n",
        "  returns\n",
        "  -------\n",
        "  10-number phone number in the format 123-456-4321\n",
        "  '''\n",
        "\n",
        "  # convert it to upper case\n",
        "  num_str = num_str.upper()\n",
        "\n",
        "  # create mapping from character to number\n",
        "  my_map = {'A':2, 'B':2, 'C':2, 'D':3, 'E':3, 'F':3, 'G':4, 'H':4, 'I':4,\n",
        "            'J':5, 'K':5, 'L':5, 'M':6, 'N':6, 'O':6, 'P':7, 'Q':7, 'R':7,\n",
        "            'S':7, 'T':8, 'U':8, 'V':8, 'W':9, 'X':9, 'Y':9, 'Z':9}\n",
        "  \n",
        "  output = ''\n",
        "  for x in num_str:\n",
        "    if x in 'ABCDEFGHIJKLMNOPQRSTUVWXYZ':\n",
        "      output += str(my_map[x])\n",
        "    else:\n",
        "      output += str(x)\n",
        "  return output\n"
      ],
      "metadata": {
        "id": "PQjJjm48eU5v"
      },
      "execution_count": null,
      "outputs": []
    },
    {
      "cell_type": "code",
      "source": [
        "def test_get_phone_number():\n",
        "  assert get_phone_number('555-GET-FOOD') == '555-438-3663'\n",
        "  assert get_phone_number('321-how-cool') == '321-469-2665'"
      ],
      "metadata": {
        "id": "YULYKx-FgofS"
      },
      "execution_count": null,
      "outputs": []
    },
    {
      "cell_type": "code",
      "source": [
        "test_get_phone_number()"
      ],
      "metadata": {
        "id": "14ccS4Psg2YN"
      },
      "execution_count": null,
      "outputs": []
    },
    {
      "cell_type": "markdown",
      "source": [
        "## Dictionaries\n",
        "\n",
        "In Python, a dictionary is an object that stores a collection of data. Each element that is\n",
        "stored in a dictionary has two parts: **a key and a value**. In fact, dictionary elements are commonly\n",
        "referred to as key-value pairs. When you want to retrieve a specific value from a dictionary,\n",
        "you use the key that is associated with that value. This is similar to the process of\n",
        "looking up a word in the Merriam-Webster dictionary, where the words are keys and the\n",
        "definitions are values.\n",
        "\n",
        "Some of the dictionary methods\n",
        "\n",
        "|Method |Description|\n",
        "|:---- |:----|\n",
        "|clear | Clears the contents of a dictionary.|\n",
        "|get |Gets the value associated with a specified key. If the key is not found, the method does not raise an exception. Instead, it returns a default value.|\n",
        "|items | Returns all the keys in a dictionary and their associated values as a sequence of tuples.|\n",
        "|keys | Returns all the keys in a dictionary as a sequence of tuples.|\n",
        "|pop | Returns the value associated with a specified key and removes that key-value pair from the dictionary. If the key is not found,the method returns a default value.|\n",
        "|popitem | Removes the item that was last inserted into the dictionary. |\n",
        "|values | Returns all the values in the dictionary as a sequence of tuples.\n",
        "\n",
        "\n"
      ],
      "metadata": {
        "id": "bEUdA9mzhG-6"
      }
    },
    {
      "cell_type": "code",
      "source": [
        "# Declare a dictionary\n",
        "phonebook = {'Chris':'555-1111', 'Katie':'555-2222',\n",
        "             'Mary': '323-9964'}\n",
        "\n",
        "# get method\n",
        "value = phonebook.get('Chris', 'Entry not found')\n",
        "print(value)\n",
        "\n",
        "value = phonebook.get('Tom', \"Entry not found\")\n",
        "print(value)\n",
        "\n",
        "# The items method\n",
        "print(phonebook.items())\n",
        "\n",
        "for name in phonebook:\n",
        "  print(name)\n",
        "\n",
        "for name, phone in phonebook.items():\n",
        "  print(name, phone)\n",
        "# can u tell the difference b/w the two for loops?\n",
        "\n",
        "# The keys methods\n",
        "for key in phonebook.keys():\n",
        "  print(key)\n",
        "\n",
        "# The pop method\n",
        "phone_num = phonebook.pop('Tom', 'Entry not found')\n",
        "print(phone_num)\n",
        "phone_num = phonebook.pop('Mary', 'Entry not found')\n",
        "print(phone_num)\n",
        "print(phonebook)\n",
        "\n",
        "# The values method\n",
        "print(phonebook.values())"
      ],
      "metadata": {
        "colab": {
          "base_uri": "https://localhost:8080/"
        },
        "id": "CpYqTWSwHcC9",
        "outputId": "86502d45-25ec-42c8-bddf-7bd786ad7aed"
      },
      "execution_count": null,
      "outputs": [
        {
          "output_type": "stream",
          "name": "stdout",
          "text": [
            "555-1111\n",
            "Entry not found\n",
            "dict_items([('Chris', '555-1111'), ('Katie', '555-2222'), ('Mary', '323-9964')])\n",
            "Chris\n",
            "Katie\n",
            "Mary\n",
            "Chris 555-1111\n",
            "Katie 555-2222\n",
            "Mary 323-9964\n",
            "Chris\n",
            "Katie\n",
            "Mary\n",
            "Entry not found\n",
            "323-9964\n",
            "{'Chris': '555-1111', 'Katie': '555-2222'}\n",
            "dict_values(['555-1111', '555-2222'])\n"
          ]
        }
      ]
    },
    {
      "cell_type": "code",
      "source": [
        "def create_deck():\n",
        "  '''\n",
        "  This function create a deck of 52 cards\n",
        "  parameters\n",
        "  -----------\n",
        "  None\n",
        "  \n",
        "  returns\n",
        "  -------\n",
        "  A dictionary of 52 key-value pairs\n",
        "  '''\n",
        "  faces = ['Ace', '2', '3', '4', '5', '6', '7', '8', '9', '10', 'Jack', 'Queen', 'King']\n",
        "  suits = ['Spades', 'Hearts', 'Clubs', 'Diamonds']\n",
        "  values = [1, 2, 3, 4, 5, 6, 7, 8, 9, 10, 10, 10, 10]\n",
        "\n",
        "  deck = {}\n",
        "\n",
        "  for i in range(13):\n",
        "    for j in range(4):\n",
        "      key = faces[i] + \" of \" + suits[j]\n",
        "      value = values[i]\n",
        "      deck[key] = value\n",
        "\n",
        "  return deck"
      ],
      "metadata": {
        "id": "4JA5nXAgJil7"
      },
      "execution_count": null,
      "outputs": []
    },
    {
      "cell_type": "code",
      "source": [
        "import random\n",
        "\n",
        "def deal_cards(deck, num):\n",
        "  '''\n",
        "  This function randomly deals specified number of cards from the deck\n",
        "  This function print out each card in the hand\n",
        "  and the value of the hand\n",
        "  '''\n",
        "  # convert the cards into a list\n",
        "  keys = list(deck.keys())\n",
        "\n",
        "  # Shuffle the cards\n",
        "  random.shuffle(keys)\n",
        "\n",
        "  hand_value = 0\n",
        "\n",
        "  if num > len(deck):\n",
        "    num = len(deck)\n",
        "\n",
        "  for i in range(num):\n",
        "    card = keys.pop() # remove the card\n",
        "    print(card)\n",
        "    hand_value += deck[card]\n",
        "  \n",
        "  print(\"Value of the hand: \", hand_value)"
      ],
      "metadata": {
        "id": "_7VSigTpjD11"
      },
      "execution_count": null,
      "outputs": []
    },
    {
      "cell_type": "code",
      "source": [
        "def main():\n",
        "  # create a deck of cards\n",
        "  deck = create_deck()\n",
        "\n",
        "  num_cards = int(input('How many cards should I deal? '))\n",
        "\n",
        "  deal_cards(deck, num_cards)"
      ],
      "metadata": {
        "id": "DhDlcdebkAYZ"
      },
      "execution_count": null,
      "outputs": []
    },
    {
      "cell_type": "code",
      "source": [
        "main()"
      ],
      "metadata": {
        "colab": {
          "base_uri": "https://localhost:8080/"
        },
        "id": "-5vK-XCokVWN",
        "outputId": "8666965b-50c4-47fb-e9c3-ea3d23042b30"
      },
      "execution_count": null,
      "outputs": [
        {
          "output_type": "stream",
          "name": "stdout",
          "text": [
            "How many cards should I deal? 8\n",
            "Jack of Diamonds\n",
            "10 of Diamonds\n",
            "7 of Hearts\n",
            "9 of Diamonds\n",
            "Ace of Hearts\n",
            "Ace of Diamonds\n",
            "3 of Spades\n",
            "8 of Diamonds\n",
            "Value of the hand:  49\n"
          ]
        }
      ]
    },
    {
      "cell_type": "code",
      "source": [],
      "metadata": {
        "id": "pkF9Q2ytpanC"
      },
      "execution_count": null,
      "outputs": []
    }
  ]
}