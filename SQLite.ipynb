{
 "cells": [
  {
   "cell_type": "markdown",
   "id": "248b65d9-8fc8-4b4b-aa6d-4e981f9ded6b",
   "metadata": {},
   "source": [
    "## Python and SQL\n",
    "\n",
    "When you open a CSV in python, and assign it to a variable name, you are using your computers memory to save that variable. Accessing data from a database like SQL is not only more efficient, but also it allows you to subset and import only the parts of the data that you need."
   ]
  },
  {
   "cell_type": "markdown",
   "id": "a4992c61-190b-44e7-89bb-6e0a9a261c2e",
   "metadata": {},
   "source": [
    "### The `sqlite3` module\n",
    "\n",
    "The sqlite3 module provides a straightforward interface for interacting with SQLite databases. A connection object is created using sqlite3.connect(); the connection must be closed at the end of the session with the .close() command. While the connection is open, any interactions with the database require you to make a cursor object with the .cursor() command. The cursor is then ready to perform all kinds of operations with .execute()."
   ]
  },
  {
   "cell_type": "code",
   "execution_count": null,
   "id": "7a469b18-3199-4aca-baec-a6cfbf0f6414",
   "metadata": {},
   "outputs": [],
   "source": [
    "import sqlite3\n",
    "\n",
    "# Create a SQL connection to our SQLite database\n",
    "con = sqlite3.connect(\"portal_mammals.sqlite\")\n",
    "\n",
    "cur = con.cursor()\n",
    "\n",
    "# The result of a \"cursor.execute\" can be iterated over by row\n",
    "for row in cur.execute('SELECT * FROM species;'):\n",
    "    print(row)\n",
    "\n",
    "# Be sure to close the connection\n",
    "con.close()"
   ]
  },
  {
   "cell_type": "markdown",
   "id": "8a509e7e-cc9e-4d96-afaf-5434ae73bdf1",
   "metadata": {},
   "source": [
    "## Queries\n",
    "One of the most common ways to interact with a database is by querying: retrieving data based on some search parameters. Use a SELECT statement string. The query is returned as a single tuple or a tuple of tuples. Add a WHERE statement to filter your results based on some parameter."
   ]
  },
  {
   "cell_type": "code",
   "execution_count": null,
   "id": "3b1f9065-7a2e-4f69-8870-3522394d37c9",
   "metadata": {},
   "outputs": [],
   "source": [
    "con = sqlite3.connect(\"portal_mammals.sqlite\")\n",
    "\n",
    "cur = con.cursor()\n",
    "\n",
    "cur.execute('SELECT * FROM species;')\n",
    "species = cur.fetchall()\n",
    "\n",
    "for row in species:\n",
    "    print(row)\n",
    "\n",
    "# Return all results of query\n",
    "cur.execute('SELECT plot_id FROM plots WHERE plot_type=\"Control\"')\n",
    "plot_id = cur.fetchall()\n",
    "\n",
    "print(plot_id)\n",
    "\n",
    "# Return first result of query\n",
    "cur.execute('SELECT species FROM species WHERE taxa=\"Bird\"')\n",
    "species_1 = cur.fetchone()\n",
    "print(species_1)\n",
    "\n",
    "# Be sure to close the connection\n",
    "con.close()"
   ]
  },
  {
   "cell_type": "markdown",
   "id": "698f7e52-bf2a-4369-b4d9-d9a739d08621",
   "metadata": {},
   "source": [
    "## Storing data: CSV vs SQLite\n",
    "Storing your data in an SQLite database can provide substantial performance improvements when reading/writing compared to CSV. The difference in performance becomes more noticeable as the size of the dataset grows.\n",
    "\n",
    "**Challenges**\n",
    "\n",
    "Create a query that contains survey data collected between 1998 - 2001 for observations of sex “male” or “female” that includes observation’s genus and species and site type for the sample. How many records are returned?\n"
   ]
  },
  {
   "cell_type": "code",
   "execution_count": 19,
   "id": "3eb6e6d8-3ff6-4f41-9456-963d1cd3732c",
   "metadata": {},
   "outputs": [
    {
     "name": "stdout",
     "output_type": "stream",
     "text": [
      "5546\n"
     ]
    }
   ],
   "source": [
    "import sqlite3\n",
    "con = sqlite3.connect(\"portal_mammals.sqlite\")\n",
    "cur = con.cursor()\n",
    "\n",
    "# Write a query string including join 3 different tables\n",
    "sql_1 = '''\n",
    "    select surveys.*, species.genus, species.species, plots.plot_type\n",
    "    from surveys, plots, species\n",
    "    where surveys.year between 1998 and 2001 and (surveys.sex = \"M\" or surveys.sex = \"F\")\n",
    "    and surveys.plot_id = plots.plot_id and surveys.species_id = species.species_id\n",
    "    '''\n",
    "    \n",
    "\n",
    "result_1 = cur.execute(sql_1).fetchall()\n",
    "\n",
    "print(len(result_1))"
   ]
  },
  {
   "cell_type": "markdown",
   "id": "1fd8d29a-656b-4217-bb7d-a6e3065a942a",
   "metadata": {},
   "source": [
    "## Accessing data stored in SQLite using Python and Pandas\n",
    "\n",
    "Using pandas, we can import results of a SQLite query into a dataframe. An example of using pandas together with sqlite is below:"
   ]
  },
  {
   "cell_type": "code",
   "execution_count": null,
   "id": "bfea2f76-35fb-43ba-a377-4ec6466b660b",
   "metadata": {},
   "outputs": [],
   "source": [
    "import pandas as pd\n",
    "import sqlite3\n",
    "\n",
    "# Read sqlite query results into a pandas DataFrame\n",
    "con = sqlite3.connect(\"portal_mammals.sqlite\")\n",
    "df = pd.read_sql_query(\"SELECT * from surveys\", con)\n",
    "\n",
    "# Verify that result of SQL query is stored in the dataframe\n",
    "print(df.head())\n",
    "\n",
    "con.close()"
   ]
  },
  {
   "cell_type": "code",
   "execution_count": null,
   "id": "36c2898c-4dd0-40d5-8cba-cf63e56cf351",
   "metadata": {},
   "outputs": [],
   "source": []
  }
 ],
 "metadata": {
  "kernelspec": {
   "display_name": "Python 3 (ipykernel)",
   "language": "python",
   "name": "python3"
  },
  "language_info": {
   "codemirror_mode": {
    "name": "ipython",
    "version": 3
   },
   "file_extension": ".py",
   "mimetype": "text/x-python",
   "name": "python",
   "nbconvert_exporter": "python",
   "pygments_lexer": "ipython3",
   "version": "3.9.12"
  }
 },
 "nbformat": 4,
 "nbformat_minor": 5
}
