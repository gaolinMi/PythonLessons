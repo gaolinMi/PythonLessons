{
 "cells": [
  {
   "cell_type": "markdown",
   "metadata": {
    "id": "LyCedyp90I9D"
   },
   "source": [
    "## Composite Pattern\n",
    "\n",
    "What is this pattern about?\n",
    "The composite pattern describes a group of objects that is treated the\n",
    "same way as a single instance of the same type of object. The intent of\n",
    "a composite is to \"compose\" objects into tree structures to represent\n",
    "part-whole hierarchies. Implementing the composite pattern lets clients\n",
    "treat individual objects and compositions uniformly.\n",
    "\n",
    "* What does this example do?\n",
    "The example implements a graphic class，which can be either an ellipse\n",
    "or a composition of several graphics. Every graphic can be printed.\n",
    "\n",
    "* Where is the pattern used practically?\n",
    "In graphics editors a shape can be basic or complex. An example of a\n",
    "simple shape is a line, where a complex shape is a rectangle which is\n",
    "made of four line objects. Since shapes have many operations in common\n",
    "such as rendering the shape to screen, and since shapes follow a\n",
    "part-whole hierarchy, composite pattern can be used to enable the\n",
    "program to deal with all shapes uniformly.\n",
    "\n",
    "* References:\n",
    "https://en.wikipedia.org/wiki/Composite_pattern\n",
    "https://infinitescript.com/2014/10/the-23-gang-of-three-design-patterns/\n",
    "\n",
    "* TL;DR\n",
    "Describes a group of objects that is treated as a single instance.\n"
   ]
  },
  {
   "cell_type": "code",
   "execution_count": null,
   "metadata": {
    "id": "Jci2WV5G0Zzw"
   },
   "outputs": [],
   "source": [
    "from abc import ABC, abstractmethod\n",
    "from typing import List\n",
    "\n",
    "\n",
    "class Graphic(ABC):\n",
    "    @abstractmethod\n",
    "    def render(self) -> None:\n",
    "        raise NotImplementedError(\"You should implement this!\")\n",
    "\n",
    "\n",
    "class CompositeGraphic(Graphic):\n",
    "    def __init__(self) -> None:\n",
    "        self.graphics: List[Graphic] = []\n",
    "\n",
    "    def render(self) -> None:\n",
    "        for graphic in self.graphics:\n",
    "            graphic.render()\n",
    "\n",
    "    def add(self, graphic: Graphic) -> None:\n",
    "        self.graphics.append(graphic)\n",
    "\n",
    "    def remove(self, graphic: Graphic) -> None:\n",
    "        self.graphics.remove(graphic)\n",
    "\n",
    "\n",
    "class Ellipse(Graphic):\n",
    "    def __init__(self, name: str) -> None:\n",
    "        self.name = name\n",
    "\n",
    "    def render(self) -> None:\n",
    "        print(f\"Ellipse: {self.name}\")\n",
    "\n",
    "class Square(Graphic):\n",
    "  def __init__(self, name:str) -> None:\n",
    "    self.name = name\n",
    "\n",
    "  def render(self) -> None:\n",
    "    print(f\"Square: {self.name}\")\n",
    "\n",
    "\n",
    "def main():\n",
    "    \"\"\"\n",
    "    >>> ellipse1 = Ellipse(\"e1\")\n",
    "    >>> ellipse2 = Ellipse(\"e2\")\n",
    "    >>> ellipse3 = Ellipse(\"e3\")\n",
    "    >>> ellipse4 = Ellipse(\"e4\")\n",
    "    >>> square1 = Square(\"s1\")\n",
    "\n",
    "    >>> graphic1 = CompositeGraphic()\n",
    "    >>> graphic2 = CompositeGraphic()\n",
    "\n",
    "    >>> graphic1.add(ellipse1)\n",
    "    >>> graphic1.add(ellipse2)\n",
    "    >>> graphic1.add(ellipse3)\n",
    "    >>> graphic2.add(ellipse4)\n",
    "    >>> graphic2.add(square1)\n",
    "\n",
    "    >>> graphic = CompositeGraphic()\n",
    "\n",
    "    >>> graphic.add(graphic1)\n",
    "    >>> graphic.add(graphic2)\n",
    "\n",
    "    >>> graphic.render()\n",
    "    Ellipse: e1\n",
    "    Ellipse: e2\n",
    "    Ellipse: e3\n",
    "    Ellipse: e4\n",
    "    Square: s1\n",
    "    \"\"\"\n"
   ]
  },
  {
   "cell_type": "code",
   "execution_count": null,
   "metadata": {
    "colab": {
     "base_uri": "https://localhost:8080/"
    },
    "id": "68WKN0Fj1kEe",
    "outputId": "3524f823-4ab5-4df7-97bc-6de5c9fcb29e"
   },
   "outputs": [
    {
     "data": {
      "text/plain": [
       "TestResults(failed=0, attempted=16)"
      ]
     },
     "execution_count": 4,
     "metadata": {},
     "output_type": "execute_result"
    }
   ],
   "source": [
    "import doctest\n",
    "doctest.testmod()"
   ]
  },
  {
   "cell_type": "code",
   "execution_count": null,
   "metadata": {
    "id": "1V6gD-Xk1m81"
   },
   "outputs": [],
   "source": []
  }
 ],
 "metadata": {
  "colab": {
   "authorship_tag": "ABX9TyNrwV0RBIJReWjweQcfFbOF",
   "collapsed_sections": [],
   "name": "composite.ipynb",
   "provenance": []
  },
  "kernelspec": {
   "display_name": "Python 3 (ipykernel)",
   "language": "python",
   "name": "python3"
  },
  "language_info": {
   "codemirror_mode": {
    "name": "ipython",
    "version": 3
   },
   "file_extension": ".py",
   "mimetype": "text/x-python",
   "name": "python",
   "nbconvert_exporter": "python",
   "pygments_lexer": "ipython3",
   "version": "3.9.12"
  }
 },
 "nbformat": 4,
 "nbformat_minor": 4
}
