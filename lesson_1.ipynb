{
 "cells": [
  {
   "cell_type": "markdown",
   "metadata": {
    "colab_type": "text",
    "id": "view-in-github"
   },
   "source": [
    "<a href=\"https://colab.research.google.com/github/gaolinMi/PythonLessons/blob/master/lesson_1.ipynb\" target=\"_parent\"><img src=\"https://colab.research.google.com/assets/colab-badge.svg\" alt=\"Open In Colab\"/></a>"
   ]
  },
  {
   "cell_type": "markdown",
   "metadata": {
    "id": "YKp3L54l1TH7"
   },
   "source": [
    "## Write a simple function\n",
    "\n",
    "A county collects property taxes on the assessment value of property, which is 60 percent\n",
    "of the property’s actual value. For example, if an acre of land is valued at \\$10,000,\n",
    "its assessment value is \\$6,000. The property tax is then 64¢ for each \\$100 of the assessment\n",
    "value. The tax for the acreassessed at \\$6,000 will be \\$38.40. Write a program that asks for the actual value of a piece of property and displays the assessment value and\n",
    "property tax."
   ]
  },
  {
   "cell_type": "code",
   "execution_count": null,
   "metadata": {
    "id": "kCCI5goE2HRY"
   },
   "outputs": [],
   "source": [
    "def cal_assessment_tax(x):\n",
    "  \"\"\"\n",
    "  Compute assessment and property tax based on actual value\n",
    "  parameters\n",
    "  -----------\n",
    "  x: float\n",
    "    Actual dollar value of the property\n",
    "  \n",
    "  Returns\n",
    "  -------\n",
    "  (assessment, tax)\n",
    "    A two-element tuple with assessment being the 1st element and tax being the \n",
    "    2nd element\n",
    "  \"\"\"\n",
    "  assessment = x * 0.6\n",
    "  tax = assessment * 0.0064\n",
    "  print(\"Assessment value: \", assessment)\n",
    "  print(\"Prooperty tax: \", tax)\n",
    "  return (assessment, tax)"
   ]
  },
  {
   "cell_type": "code",
   "execution_count": null,
   "metadata": {
    "colab": {
     "base_uri": "https://localhost:8080/"
    },
    "id": "y0gia40T2iQt",
    "outputId": "fa1a1a05-489f-4d6f-b6da-b899d92e9b50"
   },
   "outputs": [],
   "source": [
    "# Invoke the function above and store the returned values\n",
    "(assess, tax) = cal_assessment_tax(500000)"
   ]
  },
  {
   "cell_type": "code",
   "execution_count": null,
   "metadata": {
    "id": "lXFuTtMt2m0Z"
   },
   "outputs": [],
   "source": [
    "# Check for docstring\n",
    "cal_assessment_tax?"
   ]
  },
  {
   "cell_type": "markdown",
   "metadata": {
    "id": "zVh9pMy75Tj6"
   },
   "source": [
    "## Decison Structures and Boolean Logic\n",
    "\n",
    "**Relational Operators**\n",
    "\n",
    "|Operator | Meaning |\n",
    "|---- | ---- |\n",
    "| > | greater than|\n",
    "| < | less than|\n",
    "| >= | greather than or equal to|\n",
    "| <= | less than or equal to|\n",
    "| == | equal to|\n",
    "| != | not equal to|\n",
    "\n",
    "**Logical Operators**\n",
    "\n",
    "operator | Meaninng\n",
    "--- | ---\n",
    "and | True if both are true\n",
    "or | True if at least one of expressions is true\n",
    "not | negate the result\n",
    "\n",
    "\n"
   ]
  },
  {
   "cell_type": "markdown",
   "metadata": {
    "id": "JKECh-2QDMhV"
   },
   "source": [
    "#### Software Sales\n",
    "A software company sells a package that retails for $99. Quantity discounts are given\n",
    "according to the following table:\n",
    "\n",
    "Quantity | Discount\n",
    "--- |---\n",
    "10-19 | 20%\n",
    "20-49 | 30%\n",
    "50-59 | 40%\n",
    "100 or more | 50%\n",
    "\n",
    "Write a program that asks the user to enter the number of packages purchased. The program\n",
    "should then display the amount of the discount (if any) and the total amount of the\n",
    "purchase after the discount.\n"
   ]
  },
  {
   "cell_type": "code",
   "execution_count": null,
   "metadata": {
    "id": "YF4s4dfcG1PA"
   },
   "outputs": [],
   "source": [
    "def compute_sale(x):\n",
    "  '''\n",
    "  This program compute the sale price of software packages purchased.\n",
    "  Parameters\n",
    "  ----------\n",
    "  x: int\n",
    "    number of software packages purchased\n",
    "  Returns\n",
    "  -------\n",
    "  discount: float\n",
    "    discount the customer received \n",
    "  sale_price: float\n",
    "    the total amount of the purchase after the discount\n",
    "  '''\n",
    "  charge = 99 * x\n",
    "  \n",
    "  rate = 0\n",
    "  \n",
    "  if x < 20:\n",
    "    rate = 0.2\n",
    "  elif x < 50:\n",
    "    rate = 0.3\n",
    "  elif x < 100:\n",
    "    rate = 0.4\n",
    "  else:\n",
    "    rate = 0.5\n",
    "\n",
    "  discount = round(charge * rate, 2)\n",
    "  sale_price = charge - discount\n",
    "\n",
    "  return discount, sale_price"
   ]
  },
  {
   "cell_type": "markdown",
   "metadata": {
    "id": "s1MvzmeaIm4Q"
   },
   "source": [
    "Write **unit testing** code to verify the correctness of our program."
   ]
  },
  {
   "cell_type": "code",
   "execution_count": null,
   "metadata": {
    "id": "ZNB_TI_7Ivc8"
   },
   "outputs": [],
   "source": [
    "def test_compute_sale():\n",
    "  assert compute_sale(0) == (0, 0)\n",
    "  assert compute_sale(6) == (118.8, 475.2)\n",
    "  assert compute_sale(36) == (1069.2, 2494.8)\n",
    "  assert compute_sale(55) == (2178.0, 3267.0)\n",
    "  assert compute_sale(98) == (3880.8, 5821.2)\n",
    "  assert compute_sale(250) == (12375.0, 12375.0)"
   ]
  },
  {
   "cell_type": "code",
   "execution_count": null,
   "metadata": {
    "id": "zs51FzJWJE7D"
   },
   "outputs": [],
   "source": [
    "test_compute_sale()"
   ]
  },
  {
   "cell_type": "markdown",
   "metadata": {
    "id": "sP2FFgUR6V4g"
   },
   "source": [
    "## Loop Structures"
   ]
  },
  {
   "cell_type": "code",
   "execution_count": null,
   "metadata": {
    "colab": {
     "base_uri": "https://localhost:8080/"
    },
    "id": "1mptpsLGAMDF",
    "outputId": "c7d84c4a-158e-42f8-e66b-92c489050ac0"
   },
   "outputs": [],
   "source": [
    "print('Number\\tSquare\\tCube')\n",
    "for number in range(1, 11):\n",
    "  square, cube = number ** 2, number ** 3\n",
    "  print(number, square, cube, sep = '\\t')"
   ]
  },
  {
   "cell_type": "code",
   "execution_count": null,
   "metadata": {
    "colab": {
     "base_uri": "https://localhost:8080/"
    },
    "id": "uc_JgOGEAM1W",
    "outputId": "b4194261-d778-48cd-cc10-4607a1e7fdc6"
   },
   "outputs": [],
   "source": [
    "print('KPH\\tMPH')\n",
    "for kph in range(60, 131, 10):\n",
    "  mph = kph * .6214\n",
    "  print(kph , '\\t', f'{mph:.1f}')\n"
   ]
  },
  {
   "cell_type": "code",
   "execution_count": null,
   "metadata": {},
   "outputs": [],
   "source": [
    "compute_sale?"
   ]
  },
  {
   "cell_type": "markdown",
   "metadata": {},
   "source": [
    "$$\n",
    "x = \\frac{-b\\pm\\sqrt{b^2 - 4ac}}{2a}\n",
    "$$"
   ]
  },
  {
   "cell_type": "code",
   "execution_count": null,
   "metadata": {},
   "outputs": [],
   "source": []
  }
 ],
 "metadata": {
  "colab": {
   "authorship_tag": "ABX9TyPQZEZHPwNuYbSNKe+kZGa8",
   "collapsed_sections": [],
   "include_colab_link": true,
   "name": "lesson_1.ipynb",
   "provenance": []
  },
  "kernelspec": {
   "display_name": "Python 3 (ipykernel)",
   "language": "python",
   "name": "python3"
  },
  "language_info": {
   "codemirror_mode": {
    "name": "ipython",
    "version": 3
   },
   "file_extension": ".py",
   "mimetype": "text/x-python",
   "name": "python",
   "nbconvert_exporter": "python",
   "pygments_lexer": "ipython3",
   "version": "3.9.12"
  }
 },
 "nbformat": 4,
 "nbformat_minor": 4
}
